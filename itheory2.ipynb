{
 "cells": [
  {
   "cell_type": "code",
   "execution_count": 32,
   "metadata": {},
   "outputs": [
    {
     "data": {
      "text/plain": [
       "{'s': 0.188,\n",
       " 'a': 0.188,\n",
       " ' ': 0.125,\n",
       " 'd': 0.094,\n",
       " '!': 0.062,\n",
       " 'k': 0.062,\n",
       " 'n': 0.062,\n",
       " 'j': 0.062,\n",
       " 'b': 0.031,\n",
       " 'h': 0.031,\n",
       " 'c': 0.031,\n",
       " 'm': 0.031,\n",
       " 'S': 0.031}"
      ]
     },
     "execution_count": 32,
     "metadata": {},
     "output_type": "execute_result"
    }
   ],
   "source": [
    "with open('Text.txt', 'r') as file:\n",
    "    TextReader = file.read().strip()\n",
    "dictionary={}\n",
    "for i in set(TextReader):\n",
    "    dictionary[i]=round(TextReader.count(i)/len(TextReader),3)\n",
    "dict(sorted(dictionary.items(), key=lambda item: item[1],reverse=True))"
   ]
  },
  {
   "cell_type": "code",
   "execution_count": 27,
   "metadata": {},
   "outputs": [
    {
     "data": {
      "text/plain": [
       "32"
      ]
     },
     "execution_count": 27,
     "metadata": {},
     "output_type": "execute_result"
    }
   ],
   "source": [
    "len('hsabdasj jasndkas kasmcn !!S asd')"
   ]
  },
  {
   "cell_type": "code",
   "execution_count": null,
   "metadata": {},
   "outputs": [],
   "source": []
  }
 ],
 "metadata": {
  "kernelspec": {
   "display_name": "Python 3",
   "language": "python",
   "name": "python3"
  },
  "language_info": {
   "codemirror_mode": {
    "name": "ipython",
    "version": 3
   },
   "file_extension": ".py",
   "mimetype": "text/x-python",
   "name": "python",
   "nbconvert_exporter": "python",
   "pygments_lexer": "ipython3",
   "version": "3.8.3"
  }
 },
 "nbformat": 4,
 "nbformat_minor": 4
}
